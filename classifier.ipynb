{
 "cells": [
  {
   "cell_type": "code",
   "execution_count": 1,
   "metadata": {},
   "outputs": [],
   "source": [
    "# Track II \n",
    "import pickle"
   ]
  },
  {
   "cell_type": "code",
   "execution_count": 2,
   "metadata": {},
   "outputs": [],
   "source": [
    "DX = pickle.load(open(\"data/DX.p\", \"rb\"))\n",
    "DY = pickle.load(open(\"data/DY.p\", \"rb\"))\n",
    "DZ = pickle.load(open(\"data/DZ.p\", \"rb\"))"
   ]
  },
  {
   "cell_type": "code",
   "execution_count": 3,
   "metadata": {},
   "outputs": [
    {
     "data": {
      "text/plain": [
       "((595, 743), (595,), (595,))"
      ]
     },
     "execution_count": 3,
     "metadata": {},
     "output_type": "execute_result"
    }
   ],
   "source": [
    "DX.shape, DY.shape, DZ.shape"
   ]
  },
  {
   "cell_type": "code",
   "execution_count": null,
   "metadata": {},
   "outputs": [],
   "source": [
    "# random forest\n",
    "from sklearn.ensemble import RandomForestClassifier\n",
    "from sklearn.model_selection import cross_val_score\n",
    "clf = RandomForestClassifier(n_estimators=200, max_depth=15, random_state=0)\n",
    "clf.fit(DX, DZ)\n",
    "print(clf.feature_importances_)\n",
    "scores = cross_val_score(clf, DX, DZ, cv=10)\n",
    "print(scores)"
   ]
  },
  {
   "cell_type": "code",
   "execution_count": null,
   "metadata": {},
   "outputs": [],
   "source": [
    "# SVC\n",
    "from sklearn.svm import SVC\n",
    "clf = SVC(gamma='auto')\n",
    "clf.fit(DX, DY) \n",
    "scores = cross_val_score(clf, DX, DY, cv=10)\n",
    "print(scores)"
   ]
  },
  {
   "cell_type": "code",
   "execution_count": null,
   "metadata": {},
   "outputs": [],
   "source": [
    "# K neibor\n",
    "from sklearn.neighbors import KNeighborsClassifier\n",
    "clf = KNeighborsClassifier(n_neighbors=3)\n",
    "clf.fit(DX, DZ)\n",
    "scores = cross_val_score(clf, DX, DZ, cv=10)\n",
    "print(scores)"
   ]
  },
  {
   "cell_type": "code",
   "execution_count": null,
   "metadata": {},
   "outputs": [],
   "source": [
    "from seguard.common import default_config\n",
    "import re\n",
    "import networkx as nx\n",
    "import numpy as np\n",
    "import matplotlib.pyplot as plt\n",
    "import pygraphviz\n",
    "\n",
    "# import the graph class from tools\n",
    "from tools.python.seguard.graph import Graph\n",
    "fh = open(\"test_edge.edgelist\",'w')\n",
    "\n",
    "test_graph =  Graph(dot_file=\"drebin0-5fd871.apk.dot\", config=default_config)\n",
    "l = list(test_graph.nodes)\n",
    "with open('mapping.txt', 'w') as f:\n",
    "    for item in l:\n",
    "        f.write(\"%s\\n\" % item)\n",
    "converted = nx.relabel.convert_node_labels_to_integers(test_graph.g, first_label = 1)\n",
    "# Mapping: the node with position p in list(G.nodes()) is mapped to p+1 in the new graph\n",
    "\n",
    "nx.write_edgelist(converted, \"test_edge.edgelist\")\n",
    "fh.close()\n",
    "fh = open(\"test_edge.edgelist\",\"r\")\n",
    "fres = open(\"result.edgelist\", 'w')\n",
    "for line in fh:\n",
    "    y = re.sub(\"[\\{].*[\\}]\", \"\", line)\n",
    "    fres.write(y)\n",
    "fh.close()\n",
    "fres.close()\n"
   ]
  }
 ],
 "metadata": {
  "kernelspec": {
   "display_name": "Python 3",
   "language": "python",
   "name": "python3"
  },
  "language_info": {
   "codemirror_mode": {
    "name": "ipython",
    "version": 3
   },
   "file_extension": ".py",
   "mimetype": "text/x-python",
   "name": "python",
   "nbconvert_exporter": "python",
   "pygments_lexer": "ipython3",
   "version": "3.7.3"
  }
 },
 "nbformat": 4,
 "nbformat_minor": 2
}
